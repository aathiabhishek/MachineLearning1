{
 "cells": [
  {
   "cell_type": "code",
   "execution_count": 1,
   "id": "7ec3a760-c208-4281-be70-325a123ff69b",
   "metadata": {},
   "outputs": [],
   "source": [
    "import numpy as np\n",
    "import pandas as pd\n",
    "from matplotlib import pyplot as plt\n",
    "import seaborn as sns\n",
    "from sklearn.model_selection import train_test_split, cross_val_score\n",
    "from sklearn.preprocessing import StandardScaler, LabelEncoder"
   ]
  },
  {
   "cell_type": "code",
   "execution_count": 2,
   "id": "6afad510-0b2a-4578-b714-e53614a27f88",
   "metadata": {},
   "outputs": [],
   "source": [
    "# Load the dataset\n",
    "df = pd.read_csv('https://raw.githubusercontent.com/subashgandyer/datasets/main/great_customers.csv')"
   ]
  },
  {
   "cell_type": "code",
   "execution_count": 3,
   "id": "bd5d01cb-808e-4433-a86d-945beac22b6c",
   "metadata": {},
   "outputs": [
    {
     "data": {
      "text/html": [
       "<div>\n",
       "<style scoped>\n",
       "    .dataframe tbody tr th:only-of-type {\n",
       "        vertical-align: middle;\n",
       "    }\n",
       "\n",
       "    .dataframe tbody tr th {\n",
       "        vertical-align: top;\n",
       "    }\n",
       "\n",
       "    .dataframe thead th {\n",
       "        text-align: right;\n",
       "    }\n",
       "</style>\n",
       "<table border=\"1\" class=\"dataframe\">\n",
       "  <thead>\n",
       "    <tr style=\"text-align: right;\">\n",
       "      <th></th>\n",
       "      <th>user_id</th>\n",
       "      <th>age</th>\n",
       "      <th>workclass</th>\n",
       "      <th>salary</th>\n",
       "      <th>education_rank</th>\n",
       "      <th>marital-status</th>\n",
       "      <th>occupation</th>\n",
       "      <th>race</th>\n",
       "      <th>sex</th>\n",
       "      <th>mins_beerdrinking_year</th>\n",
       "      <th>mins_exercising_year</th>\n",
       "      <th>works_hours</th>\n",
       "      <th>tea_per_year</th>\n",
       "      <th>coffee_per_year</th>\n",
       "      <th>great_customer_class</th>\n",
       "    </tr>\n",
       "  </thead>\n",
       "  <tbody>\n",
       "    <tr>\n",
       "      <th>0</th>\n",
       "      <td>1004889</td>\n",
       "      <td>14.0</td>\n",
       "      <td>private</td>\n",
       "      <td>70773.00</td>\n",
       "      <td>9</td>\n",
       "      <td>Never-married</td>\n",
       "      <td>sales</td>\n",
       "      <td>not_caucasian</td>\n",
       "      <td>Male</td>\n",
       "      <td>0.0</td>\n",
       "      <td>0.0</td>\n",
       "      <td>40</td>\n",
       "      <td>399.0</td>\n",
       "      <td>NaN</td>\n",
       "      <td>0</td>\n",
       "    </tr>\n",
       "    <tr>\n",
       "      <th>1</th>\n",
       "      <td>1012811</td>\n",
       "      <td>25.0</td>\n",
       "      <td>private</td>\n",
       "      <td>76597.00</td>\n",
       "      <td>9</td>\n",
       "      <td>Divorced</td>\n",
       "      <td>sales</td>\n",
       "      <td>caucasian</td>\n",
       "      <td>Female</td>\n",
       "      <td>0.0</td>\n",
       "      <td>0.0</td>\n",
       "      <td>30</td>\n",
       "      <td>256.0</td>\n",
       "      <td>NaN</td>\n",
       "      <td>0</td>\n",
       "    </tr>\n",
       "    <tr>\n",
       "      <th>2</th>\n",
       "      <td>1006870</td>\n",
       "      <td>21.0</td>\n",
       "      <td>private</td>\n",
       "      <td>47947.25</td>\n",
       "      <td>10</td>\n",
       "      <td>Never-married</td>\n",
       "      <td>clerical</td>\n",
       "      <td>caucasian</td>\n",
       "      <td>Female</td>\n",
       "      <td>0.0</td>\n",
       "      <td>0.0</td>\n",
       "      <td>10</td>\n",
       "      <td>442.0</td>\n",
       "      <td>276.0</td>\n",
       "      <td>0</td>\n",
       "    </tr>\n",
       "    <tr>\n",
       "      <th>3</th>\n",
       "      <td>1022149</td>\n",
       "      <td>23.0</td>\n",
       "      <td>private</td>\n",
       "      <td>41740.25</td>\n",
       "      <td>7</td>\n",
       "      <td>Divorced</td>\n",
       "      <td>sales</td>\n",
       "      <td>caucasian</td>\n",
       "      <td>Female</td>\n",
       "      <td>0.0</td>\n",
       "      <td>0.0</td>\n",
       "      <td>20</td>\n",
       "      <td>NaN</td>\n",
       "      <td>NaN</td>\n",
       "      <td>0</td>\n",
       "    </tr>\n",
       "    <tr>\n",
       "      <th>4</th>\n",
       "      <td>1029558</td>\n",
       "      <td>26.0</td>\n",
       "      <td>private</td>\n",
       "      <td>NaN</td>\n",
       "      <td>9</td>\n",
       "      <td>Married</td>\n",
       "      <td>sales</td>\n",
       "      <td>not_caucasian</td>\n",
       "      <td>Male</td>\n",
       "      <td>NaN</td>\n",
       "      <td>0.0</td>\n",
       "      <td>36</td>\n",
       "      <td>NaN</td>\n",
       "      <td>120.0</td>\n",
       "      <td>0</td>\n",
       "    </tr>\n",
       "  </tbody>\n",
       "</table>\n",
       "</div>"
      ],
      "text/plain": [
       "   user_id   age workclass    salary  education_rank marital-status  \\\n",
       "0  1004889  14.0   private  70773.00               9  Never-married   \n",
       "1  1012811  25.0   private  76597.00               9       Divorced   \n",
       "2  1006870  21.0   private  47947.25              10  Never-married   \n",
       "3  1022149  23.0   private  41740.25               7       Divorced   \n",
       "4  1029558  26.0   private       NaN               9        Married   \n",
       "\n",
       "  occupation           race     sex  mins_beerdrinking_year  \\\n",
       "0      sales  not_caucasian    Male                     0.0   \n",
       "1      sales      caucasian  Female                     0.0   \n",
       "2   clerical      caucasian  Female                     0.0   \n",
       "3      sales      caucasian  Female                     0.0   \n",
       "4      sales  not_caucasian    Male                     NaN   \n",
       "\n",
       "   mins_exercising_year  works_hours  tea_per_year  coffee_per_year  \\\n",
       "0                   0.0           40         399.0              NaN   \n",
       "1                   0.0           30         256.0              NaN   \n",
       "2                   0.0           10         442.0            276.0   \n",
       "3                   0.0           20           NaN              NaN   \n",
       "4                   0.0           36           NaN            120.0   \n",
       "\n",
       "   great_customer_class  \n",
       "0                     0  \n",
       "1                     0  \n",
       "2                     0  \n",
       "3                     0  \n",
       "4                     0  "
      ]
     },
     "execution_count": 3,
     "metadata": {},
     "output_type": "execute_result"
    }
   ],
   "source": [
    "df.head()"
   ]
  },
  {
   "cell_type": "code",
   "execution_count": 7,
   "id": "d09c7564-bf2f-4c5a-91db-a527faad50c9",
   "metadata": {},
   "outputs": [
    {
     "name": "stdout",
     "output_type": "stream",
     "text": [
      "<class 'pandas.core.frame.DataFrame'>\n",
      "RangeIndex: 13599 entries, 0 to 13598\n",
      "Data columns (total 15 columns):\n",
      " #   Column                  Non-Null Count  Dtype  \n",
      "---  ------                  --------------  -----  \n",
      " 0   user_id                 13599 non-null  int64  \n",
      " 1   age                     13178 non-null  float64\n",
      " 2   workclass               13056 non-null  object \n",
      " 3   salary                  13177 non-null  float64\n",
      " 4   education_rank          13599 non-null  int64  \n",
      " 5   marital-status          13599 non-null  object \n",
      " 6   occupation              13056 non-null  object \n",
      " 7   race                    13599 non-null  object \n",
      " 8   sex                     13599 non-null  object \n",
      " 9   mins_beerdrinking_year  13175 non-null  float64\n",
      " 10  mins_exercising_year    13178 non-null  float64\n",
      " 11  works_hours             13599 non-null  int64  \n",
      " 12  tea_per_year            11170 non-null  float64\n",
      " 13  coffee_per_year         11188 non-null  float64\n",
      " 14  great_customer_class    13599 non-null  int64  \n",
      "dtypes: float64(6), int64(4), object(5)\n",
      "memory usage: 1.6+ MB\n"
     ]
    }
   ],
   "source": [
    "df.info()"
   ]
  },
  {
   "cell_type": "code",
   "execution_count": 9,
   "id": "f3ae47c6-8f38-40bb-8572-f9b1aba56614",
   "metadata": {},
   "outputs": [
    {
     "data": {
      "text/plain": [
       "Index(['user_id', 'age', 'workclass', 'salary', 'education_rank',\n",
       "       'marital-status', 'occupation', 'race', 'sex', 'mins_beerdrinking_year',\n",
       "       'mins_exercising_year', 'works_hours', 'tea_per_year',\n",
       "       'coffee_per_year', 'great_customer_class'],\n",
       "      dtype='object')"
      ]
     },
     "execution_count": 9,
     "metadata": {},
     "output_type": "execute_result"
    }
   ],
   "source": [
    "features = df.columns\n",
    "df.columns"
   ]
  },
  {
   "cell_type": "code",
   "execution_count": 11,
   "id": "aace28d4-eaf4-4ad8-b623-a19ebc4de738",
   "metadata": {},
   "outputs": [
    {
     "data": {
      "text/plain": [
       "user_id                      0\n",
       "age                        421\n",
       "workclass                  543\n",
       "salary                     422\n",
       "education_rank               0\n",
       "marital-status               0\n",
       "occupation                 543\n",
       "race                         0\n",
       "sex                          0\n",
       "mins_beerdrinking_year     424\n",
       "mins_exercising_year       421\n",
       "works_hours                  0\n",
       "tea_per_year              2429\n",
       "coffee_per_year           2411\n",
       "great_customer_class         0\n",
       "dtype: int64"
      ]
     },
     "execution_count": 11,
     "metadata": {},
     "output_type": "execute_result"
    }
   ],
   "source": [
    "missing_data = df.isnull().sum()\n",
    "missing_data"
   ]
  },
  {
   "cell_type": "code",
   "execution_count": 13,
   "id": "74880bd6-a512-4a86-b24c-a3b51e98634e",
   "metadata": {},
   "outputs": [],
   "source": [
    "df['age'] = df['age'].fillna(df['age'].mean())\n"
   ]
  },
  {
   "cell_type": "code",
   "execution_count": 15,
   "id": "1e86876a-aa34-448c-a54a-bdaa009edeac",
   "metadata": {},
   "outputs": [
    {
     "data": {
      "text/plain": [
       "user_id                      0\n",
       "age                          0\n",
       "workclass                  543\n",
       "salary                     422\n",
       "education_rank               0\n",
       "marital-status               0\n",
       "occupation                 543\n",
       "race                         0\n",
       "sex                          0\n",
       "mins_beerdrinking_year     424\n",
       "mins_exercising_year       421\n",
       "works_hours                  0\n",
       "tea_per_year              2429\n",
       "coffee_per_year           2411\n",
       "great_customer_class         0\n",
       "dtype: int64"
      ]
     },
     "execution_count": 15,
     "metadata": {},
     "output_type": "execute_result"
    }
   ],
   "source": [
    "missing_data = df.isnull().sum()\n",
    "missing_data"
   ]
  },
  {
   "cell_type": "code",
   "execution_count": 17,
   "id": "79d230ca-c22b-47df-be8b-06fabc1f10ae",
   "metadata": {},
   "outputs": [
    {
     "data": {
      "text/plain": [
       "<Axes: >"
      ]
     },
     "execution_count": 17,
     "metadata": {},
     "output_type": "execute_result"
    },
    {
     "data": {
      "image/png": "[encoded data removed]",
      "text/plain": [
       "<Figure size 1000x600 with 1 Axes>"
      ]
     },
     "metadata": {},
     "output_type": "display_data"
    }
   ],
   "source": [
    "plt.figure(figsize=(10,6))\n",
    "sns.heatmap(df.isna(), cbar=False, cmap='viridis', yticklabels=False)"
   ]
  },
  {
   "cell_type": "code",
   "execution_count": 19,
   "id": "cad3cef1-26cd-427d-ac49-a4b79e8d7a4f",
   "metadata": {},
   "outputs": [],
   "source": [
    "\n",
    "num_cols = ['mins_beerdrinking_year', 'mins_exercising_year', 'tea_per_year', 'coffee_per_year','salary']\n",
    "cat_cols = ['workclass', 'occupation']\n",
    "\n",
    "\n",
    "for col in num_cols:\n",
    "    df[col] = df[col].fillna(df[col].mean())\n",
    "\n",
    "for col in cat_cols:\n",
    "    df[col] = df[col].fillna(df[col].mode()[0])  # mode() returns a Series, so [0] to get the first value\n"
   ]
  },
  {
   "cell_type": "code",
   "execution_count": 21,
   "id": "800104c5-8c90-451e-9f1a-f03c4af8e188",
   "metadata": {},
   "outputs": [
    {
     "data": {
      "text/plain": [
       "user_id                   0\n",
       "age                       0\n",
       "workclass                 0\n",
       "salary                    0\n",
       "education_rank            0\n",
       "marital-status            0\n",
       "occupation                0\n",
       "race                      0\n",
       "sex                       0\n",
       "mins_beerdrinking_year    0\n",
       "mins_exercising_year      0\n",
       "works_hours               0\n",
       "tea_per_year              0\n",
       "coffee_per_year           0\n",
       "great_customer_class      0\n",
       "dtype: int64"
      ]
     },
     "execution_count": 21,
     "metadata": {},
     "output_type": "execute_result"
    }
   ],
   "source": [
    "missing_data = df.isnull().sum()\n",
    "missing_data"
   ]
  },
  {
   "cell_type": "code",
   "execution_count": 23,
   "id": "3deb496e-f0d4-4a68-a6f1-38c0ad47a723",
   "metadata": {},
   "outputs": [
    {
     "data": {
      "text/plain": [
       "<Axes: >"
      ]
     },
     "execution_count": 23,
     "metadata": {},
     "output_type": "execute_result"
    },
    {
     "data": {
      "image/png": "[encoded data removed]",
      "text/plain": [
       "<Figure size 1000x600 with 1 Axes>"
      ]
     },
     "metadata": {},
     "output_type": "display_data"
    }
   ],
   "source": [
    "plt.figure(figsize=(10,6))\n",
    "sns.heatmap(df.isna(), cbar=False, cmap='viridis', yticklabels=False)"
   ]
  },
  {
   "cell_type": "code",
   "execution_count": 24,
   "id": "da412661-28ae-4bb7-b499-39ca4abb3142",
   "metadata": {},
   "outputs": [
    {
     "data": {
      "text/html": [
       "<div>\n",
       "<style scoped>\n",
       "    .dataframe tbody tr th:only-of-type {\n",
       "        vertical-align: middle;\n",
       "    }\n",
       "\n",
       "    .dataframe tbody tr th {\n",
       "        vertical-align: top;\n",
       "    }\n",
       "\n",
       "    .dataframe thead th {\n",
       "        text-align: right;\n",
       "    }\n",
       "</style>\n",
       "<table border=\"1\" class=\"dataframe\">\n",
       "  <thead>\n",
       "    <tr style=\"text-align: right;\">\n",
       "      <th></th>\n",
       "      <th>user_id</th>\n",
       "      <th>age</th>\n",
       "      <th>workclass</th>\n",
       "      <th>salary</th>\n",
       "      <th>education_rank</th>\n",
       "      <th>marital-status</th>\n",
       "      <th>occupation</th>\n",
       "      <th>race</th>\n",
       "      <th>sex</th>\n",
       "      <th>mins_beerdrinking_year</th>\n",
       "      <th>mins_exercising_year</th>\n",
       "      <th>works_hours</th>\n",
       "      <th>tea_per_year</th>\n",
       "      <th>coffee_per_year</th>\n",
       "      <th>great_customer_class</th>\n",
       "    </tr>\n",
       "  </thead>\n",
       "  <tbody>\n",
       "    <tr>\n",
       "      <th>0</th>\n",
       "      <td>1004889</td>\n",
       "      <td>14.0</td>\n",
       "      <td>private</td>\n",
       "      <td>70773.000000</td>\n",
       "      <td>9</td>\n",
       "      <td>Never-married</td>\n",
       "      <td>sales</td>\n",
       "      <td>not_caucasian</td>\n",
       "      <td>Male</td>\n",
       "      <td>0.000000</td>\n",
       "      <td>0.0</td>\n",
       "      <td>40</td>\n",
       "      <td>399.000000</td>\n",
       "      <td>359.708169</td>\n",
       "      <td>0</td>\n",
       "    </tr>\n",
       "    <tr>\n",
       "      <th>1</th>\n",
       "      <td>1012811</td>\n",
       "      <td>25.0</td>\n",
       "      <td>private</td>\n",
       "      <td>76597.000000</td>\n",
       "      <td>9</td>\n",
       "      <td>Divorced</td>\n",
       "      <td>sales</td>\n",
       "      <td>caucasian</td>\n",
       "      <td>Female</td>\n",
       "      <td>0.000000</td>\n",
       "      <td>0.0</td>\n",
       "      <td>30</td>\n",
       "      <td>256.000000</td>\n",
       "      <td>359.708169</td>\n",
       "      <td>0</td>\n",
       "    </tr>\n",
       "    <tr>\n",
       "      <th>2</th>\n",
       "      <td>1006870</td>\n",
       "      <td>21.0</td>\n",
       "      <td>private</td>\n",
       "      <td>47947.250000</td>\n",
       "      <td>10</td>\n",
       "      <td>Never-married</td>\n",
       "      <td>clerical</td>\n",
       "      <td>caucasian</td>\n",
       "      <td>Female</td>\n",
       "      <td>0.000000</td>\n",
       "      <td>0.0</td>\n",
       "      <td>10</td>\n",
       "      <td>442.000000</td>\n",
       "      <td>276.000000</td>\n",
       "      <td>0</td>\n",
       "    </tr>\n",
       "    <tr>\n",
       "      <th>3</th>\n",
       "      <td>1022149</td>\n",
       "      <td>23.0</td>\n",
       "      <td>private</td>\n",
       "      <td>41740.250000</td>\n",
       "      <td>7</td>\n",
       "      <td>Divorced</td>\n",
       "      <td>sales</td>\n",
       "      <td>caucasian</td>\n",
       "      <td>Female</td>\n",
       "      <td>0.000000</td>\n",
       "      <td>0.0</td>\n",
       "      <td>20</td>\n",
       "      <td>217.276544</td>\n",
       "      <td>359.708169</td>\n",
       "      <td>0</td>\n",
       "    </tr>\n",
       "    <tr>\n",
       "      <th>4</th>\n",
       "      <td>1029558</td>\n",
       "      <td>26.0</td>\n",
       "      <td>private</td>\n",
       "      <td>37149.297355</td>\n",
       "      <td>9</td>\n",
       "      <td>Married</td>\n",
       "      <td>sales</td>\n",
       "      <td>not_caucasian</td>\n",
       "      <td>Male</td>\n",
       "      <td>447.920607</td>\n",
       "      <td>0.0</td>\n",
       "      <td>36</td>\n",
       "      <td>217.276544</td>\n",
       "      <td>120.000000</td>\n",
       "      <td>0</td>\n",
       "    </tr>\n",
       "  </tbody>\n",
       "</table>\n",
       "</div>"
      ],
      "text/plain": [
       "   user_id   age workclass        salary  education_rank marital-status  \\\n",
       "0  1004889  14.0   private  70773.000000               9  Never-married   \n",
       "1  1012811  25.0   private  76597.000000               9       Divorced   \n",
       "2  1006870  21.0   private  47947.250000              10  Never-married   \n",
       "3  1022149  23.0   private  41740.250000               7       Divorced   \n",
       "4  1029558  26.0   private  37149.297355               9        Married   \n",
       "\n",
       "  occupation           race     sex  mins_beerdrinking_year  \\\n",
       "0      sales  not_caucasian    Male                0.000000   \n",
       "1      sales      caucasian  Female                0.000000   \n",
       "2   clerical      caucasian  Female                0.000000   \n",
       "3      sales      caucasian  Female                0.000000   \n",
       "4      sales  not_caucasian    Male              447.920607   \n",
       "\n",
       "   mins_exercising_year  works_hours  tea_per_year  coffee_per_year  \\\n",
       "0                   0.0           40    399.000000       359.708169   \n",
       "1                   0.0           30    256.000000       359.708169   \n",
       "2                   0.0           10    442.000000       276.000000   \n",
       "3                   0.0           20    217.276544       359.708169   \n",
       "4                   0.0           36    217.276544       120.000000   \n",
       "\n",
       "   great_customer_class  \n",
       "0                     0  \n",
       "1                     0  \n",
       "2                     0  \n",
       "3                     0  \n",
       "4                     0  "
      ]
     },
     "execution_count": 24,
     "metadata": {},
     "output_type": "execute_result"
    }
   ],
   "source": [
    "df.head()"
   ]
  },
  {
   "cell_type": "code",
   "execution_count": 27,
   "id": "5e0a24f2-ceea-4a3c-97ff-1f7a46cc6a7c",
   "metadata": {},
   "outputs": [],
   "source": [
    "X = df.drop('great_customer_class', axis=1) \n",
    "y = df['great_customer_class']  "
   ]
  },
  {
   "cell_type": "code",
   "execution_count": 29,
   "id": "6684f5e3-3b14-474e-8896-21ef06299112",
   "metadata": {},
   "outputs": [],
   "source": [
    "label_encoders = {}\n",
    "for column in df.select_dtypes(include=['object']).columns:\n",
    "        label_encoders[column] = LabelEncoder()\n",
    "        df[column] = label_encoders[column].fit_transform(df[column])\n"
   ]
  },
  {
   "cell_type": "code",
   "execution_count": 31,
   "id": "386d9acc-4cae-48ac-afb1-77a9157a9c6e",
   "metadata": {},
   "outputs": [
    {
     "data": {
      "text/html": [
       "<div>\n",
       "<style scoped>\n",
       "    .dataframe tbody tr th:only-of-type {\n",
       "        vertical-align: middle;\n",
       "    }\n",
       "\n",
       "    .dataframe tbody tr th {\n",
       "        vertical-align: top;\n",
       "    }\n",
       "\n",
       "    .dataframe thead th {\n",
       "        text-align: right;\n",
       "    }\n",
       "</style>\n",
       "<table border=\"1\" class=\"dataframe\">\n",
       "  <thead>\n",
       "    <tr style=\"text-align: right;\">\n",
       "      <th></th>\n",
       "      <th>user_id</th>\n",
       "      <th>age</th>\n",
       "      <th>workclass</th>\n",
       "      <th>salary</th>\n",
       "      <th>education_rank</th>\n",
       "      <th>marital-status</th>\n",
       "      <th>occupation</th>\n",
       "      <th>race</th>\n",
       "      <th>sex</th>\n",
       "      <th>mins_beerdrinking_year</th>\n",
       "      <th>mins_exercising_year</th>\n",
       "      <th>works_hours</th>\n",
       "      <th>tea_per_year</th>\n",
       "      <th>coffee_per_year</th>\n",
       "      <th>great_customer_class</th>\n",
       "    </tr>\n",
       "  </thead>\n",
       "  <tbody>\n",
       "    <tr>\n",
       "      <th>0</th>\n",
       "      <td>1004889</td>\n",
       "      <td>14.0</td>\n",
       "      <td>1</td>\n",
       "      <td>70773.000000</td>\n",
       "      <td>9</td>\n",
       "      <td>2</td>\n",
       "      <td>9</td>\n",
       "      <td>1</td>\n",
       "      <td>1</td>\n",
       "      <td>0.000000</td>\n",
       "      <td>0.0</td>\n",
       "      <td>40</td>\n",
       "      <td>399.000000</td>\n",
       "      <td>359.708169</td>\n",
       "      <td>0</td>\n",
       "    </tr>\n",
       "    <tr>\n",
       "      <th>1</th>\n",
       "      <td>1012811</td>\n",
       "      <td>25.0</td>\n",
       "      <td>1</td>\n",
       "      <td>76597.000000</td>\n",
       "      <td>9</td>\n",
       "      <td>0</td>\n",
       "      <td>9</td>\n",
       "      <td>0</td>\n",
       "      <td>0</td>\n",
       "      <td>0.000000</td>\n",
       "      <td>0.0</td>\n",
       "      <td>30</td>\n",
       "      <td>256.000000</td>\n",
       "      <td>359.708169</td>\n",
       "      <td>0</td>\n",
       "    </tr>\n",
       "    <tr>\n",
       "      <th>2</th>\n",
       "      <td>1006870</td>\n",
       "      <td>21.0</td>\n",
       "      <td>1</td>\n",
       "      <td>47947.250000</td>\n",
       "      <td>10</td>\n",
       "      <td>2</td>\n",
       "      <td>1</td>\n",
       "      <td>0</td>\n",
       "      <td>0</td>\n",
       "      <td>0.000000</td>\n",
       "      <td>0.0</td>\n",
       "      <td>10</td>\n",
       "      <td>442.000000</td>\n",
       "      <td>276.000000</td>\n",
       "      <td>0</td>\n",
       "    </tr>\n",
       "    <tr>\n",
       "      <th>3</th>\n",
       "      <td>1022149</td>\n",
       "      <td>23.0</td>\n",
       "      <td>1</td>\n",
       "      <td>41740.250000</td>\n",
       "      <td>7</td>\n",
       "      <td>0</td>\n",
       "      <td>9</td>\n",
       "      <td>0</td>\n",
       "      <td>0</td>\n",
       "      <td>0.000000</td>\n",
       "      <td>0.0</td>\n",
       "      <td>20</td>\n",
       "      <td>217.276544</td>\n",
       "      <td>359.708169</td>\n",
       "      <td>0</td>\n",
       "    </tr>\n",
       "    <tr>\n",
       "      <th>4</th>\n",
       "      <td>1029558</td>\n",
       "      <td>26.0</td>\n",
       "      <td>1</td>\n",
       "      <td>37149.297355</td>\n",
       "      <td>9</td>\n",
       "      <td>1</td>\n",
       "      <td>9</td>\n",
       "      <td>1</td>\n",
       "      <td>1</td>\n",
       "      <td>447.920607</td>\n",
       "      <td>0.0</td>\n",
       "      <td>36</td>\n",
       "      <td>217.276544</td>\n",
       "      <td>120.000000</td>\n",
       "      <td>0</td>\n",
       "    </tr>\n",
       "  </tbody>\n",
       "</table>\n",
       "</div>"
      ],
      "text/plain": [
       "   user_id   age  workclass        salary  education_rank  marital-status  \\\n",
       "0  1004889  14.0          1  70773.000000               9               2   \n",
       "1  1012811  25.0          1  76597.000000               9               0   \n",
       "2  1006870  21.0          1  47947.250000              10               2   \n",
       "3  1022149  23.0          1  41740.250000               7               0   \n",
       "4  1029558  26.0          1  37149.297355               9               1   \n",
       "\n",
       "   occupation  race  sex  mins_beerdrinking_year  mins_exercising_year  \\\n",
       "0           9     1    1                0.000000                   0.0   \n",
       "1           9     0    0                0.000000                   0.0   \n",
       "2           1     0    0                0.000000                   0.0   \n",
       "3           9     0    0                0.000000                   0.0   \n",
       "4           9     1    1              447.920607                   0.0   \n",
       "\n",
       "   works_hours  tea_per_year  coffee_per_year  great_customer_class  \n",
       "0           40    399.000000       359.708169                     0  \n",
       "1           30    256.000000       359.708169                     0  \n",
       "2           10    442.000000       276.000000                     0  \n",
       "3           20    217.276544       359.708169                     0  \n",
       "4           36    217.276544       120.000000                     0  "
      ]
     },
     "execution_count": 31,
     "metadata": {},
     "output_type": "execute_result"
    }
   ],
   "source": [
    "df.head()"
   ]
  },
  {
   "cell_type": "code",
   "execution_count": 39,
   "id": "59f8785b-1583-4712-8857-0e995186854f",
   "metadata": {},
   "outputs": [],
   "source": [
    "X = df.drop(columns=['great_customer_class', 'user_id'], axis=1)\n",
    "y = df['great_customer_class']  "
   ]
  },
  {
   "cell_type": "code",
   "execution_count": 41,
   "id": "23196721-4d9b-4527-8b8f-20a845ebbe9a",
   "metadata": {},
   "outputs": [
    {
     "name": "stdout",
     "output_type": "stream",
     "text": [
      "(13599, 13)\n",
      "(13599,)\n"
     ]
    }
   ],
   "source": [
    "print(X.shape)\n",
    "print(y.shape)"
   ]
  },
  {
   "cell_type": "code",
   "execution_count": 43,
   "id": "b6698d54-4913-44ac-ae74-94a9e7278422",
   "metadata": {},
   "outputs": [
    {
     "data": {
      "text/plain": [
       "['age',\n",
       " 'workclass',\n",
       " 'salary',\n",
       " 'education_rank',\n",
       " 'marital-status',\n",
       " 'occupation',\n",
       " 'race',\n",
       " 'sex',\n",
       " 'mins_beerdrinking_year',\n",
       " 'mins_exercising_year',\n",
       " 'works_hours',\n",
       " 'tea_per_year',\n",
       " 'coffee_per_year']"
      ]
     },
     "execution_count": 43,
     "metadata": {},
     "output_type": "execute_result"
    }
   ],
   "source": [
    "feature_name = X.columns.tolist()\n",
    "feature_name"
   ]
  },
  {
   "cell_type": "code",
   "execution_count": 45,
   "id": "3aaa1632-cc39-44c6-aa15-093628603ae0",
   "metadata": {},
   "outputs": [],
   "source": [
    "from sklearn.feature_selection import SelectKBest\n",
    "from sklearn.feature_selection import chi2\n",
    "from sklearn.preprocessing import MinMaxScaler\n",
    "feature_name = list(X.columns)\n",
    "# no of maximum features we need to select\n",
    "num_feats=8"
   ]
  },
  {
   "cell_type": "code",
   "execution_count": 47,
   "id": "b445ec81-429f-4c04-bc45-9625dcc6be20",
   "metadata": {},
   "outputs": [],
   "source": [
    "def cor_selector(X, y,num_feats):\n",
    "    # Your code goes here (Multiple lines)\n",
    "    cor_list=[]\n",
    "    for i in X.columns.tolist():\n",
    "        cor = np.corrcoef(X[i], y)[0, 1]\n",
    "        cor_list.append(cor)\n",
    "\n",
    "    cor_list = [0 if np.isnan(i) else i for i in cor_list]\n",
    "    \n",
    "    cor_feature = X.iloc[:,np.argsort(np.abs(cor_list))[-num_feats:]].columns.tolist()\n",
    "    \n",
    "    cor_support = [True if i in cor_feature else False for i in feature_name]\n",
    "    # Your code ends here\n",
    "    return cor_support, cor_feature"
   ]
  },
  {
   "cell_type": "code",
   "execution_count": 49,
   "id": "f9ec5c82-e9c4-481b-a24e-53eb9f6aac35",
   "metadata": {},
   "outputs": [
    {
     "name": "stdout",
     "output_type": "stream",
     "text": [
      "8 selected features\n"
     ]
    }
   ],
   "source": [
    "cor_support, cor_feature = cor_selector(X, y,num_feats)\n",
    "print(str(len(cor_feature)), 'selected features')"
   ]
  },
  {
   "cell_type": "code",
   "execution_count": 51,
   "id": "e441e514-7634-4b50-8267-165e4caf884e",
   "metadata": {},
   "outputs": [
    {
     "data": {
      "text/plain": [
       "['education_rank',\n",
       " 'salary',\n",
       " 'coffee_per_year',\n",
       " 'occupation',\n",
       " 'mins_exercising_year',\n",
       " 'works_hours',\n",
       " 'workclass',\n",
       " 'mins_beerdrinking_year']"
      ]
     },
     "execution_count": 51,
     "metadata": {},
     "output_type": "execute_result"
    }
   ],
   "source": [
    "cor_feature"
   ]
  },
  {
   "cell_type": "code",
   "execution_count": 53,
   "id": "00353d19-8d60-4298-819f-302b94f6cf83",
   "metadata": {},
   "outputs": [],
   "source": [
    "def chi_squared_selector(X, y, num_feats):\n",
    "    scaler = MinMaxScaler()\n",
    "    X_scaled = scaler.fit_transform(X)\n",
    "    \n",
    "    chi2_selector = SelectKBest(chi2, k=num_feats)\n",
    "    X_new = chi2_selector.fit_transform(X_scaled, y)\n",
    "    \n",
    "    chi_support = chi2_selector.get_support()\n",
    "    chi_feature = X.columns[chi_support].tolist()\n",
    "    \n",
    "    return chi_support, chi_feature"
   ]
  },
  {
   "cell_type": "code",
   "execution_count": 55,
   "id": "0492b4dc-ab6d-48a9-adfa-8384e9a7a75a",
   "metadata": {},
   "outputs": [
    {
     "name": "stdout",
     "output_type": "stream",
     "text": [
      "8 selected features\n"
     ]
    }
   ],
   "source": [
    "chi_support, chi_feature = chi_squared_selector(X, y,num_feats)\n",
    "print(str(len(chi_feature)), 'selected features')"
   ]
  },
  {
   "cell_type": "code",
   "execution_count": 57,
   "id": "e78c1007-3da0-45b8-9488-22e46e02d322",
   "metadata": {},
   "outputs": [
    {
     "data": {
      "text/plain": [
       "['workclass',\n",
       " 'salary',\n",
       " 'marital-status',\n",
       " 'occupation',\n",
       " 'sex',\n",
       " 'mins_beerdrinking_year',\n",
       " 'mins_exercising_year',\n",
       " 'coffee_per_year']"
      ]
     },
     "execution_count": 57,
     "metadata": {},
     "output_type": "execute_result"
    }
   ],
   "source": [
    "chi_feature"
   ]
  },
  {
   "cell_type": "code",
   "execution_count": 59,
   "id": "e16f6cb8-47cd-46e4-b6f4-ab81d339f588",
   "metadata": {},
   "outputs": [
    {
     "name": "stdout",
     "output_type": "stream",
     "text": [
      "8 selected features\n"
     ]
    }
   ],
   "source": [
    "from sklearn.feature_selection import RFE\n",
    "from sklearn.preprocessing import StandardScaler\n",
    "from sklearn.linear_model import LogisticRegression\n",
    "def rfe_selector(X, y, num_feats):\n",
    "    # Your code goes here (Multiple lines)\n",
    "    scaler = StandardScaler()\n",
    "    X_scaled = scaler.fit_transform(X)\n",
    "    model = LogisticRegression()\n",
    "    \n",
    "    rfe = RFE(estimator=model, n_features_to_select=num_feats)\n",
    "    rfe.fit(X_scaled, y)\n",
    "    rfe_support = rfe.support_  \n",
    "    rfe_feature = X.columns[rfe_support]\n",
    "\n",
    "    # Your code ends here\n",
    "    return rfe_support, rfe_feature\n",
    "rfe_support, rfe_feature = rfe_selector(X, y,num_feats)\n",
    "print(str(len(rfe_feature)), 'selected features')\n"
   ]
  },
  {
   "cell_type": "code",
   "execution_count": 61,
   "id": "0d925a80-7ac2-4323-b571-9df18ef251a3",
   "metadata": {},
   "outputs": [],
   "source": [
    "from sklearn.feature_selection import SelectFromModel\n",
    "from sklearn.ensemble import RandomForestClassifier"
   ]
  },
  {
   "cell_type": "code",
   "execution_count": 63,
   "id": "d0402268-26fe-4ffd-8f66-bf0f6e232dd3",
   "metadata": {},
   "outputs": [
    {
     "name": "stdout",
     "output_type": "stream",
     "text": [
      "7 selected features\n"
     ]
    },
    {
     "data": {
      "text/plain": [
       "['age',\n",
       " 'salary',\n",
       " 'education_rank',\n",
       " 'marital-status',\n",
       " 'mins_beerdrinking_year',\n",
       " 'tea_per_year',\n",
       " 'coffee_per_year']"
      ]
     },
     "execution_count": 63,
     "metadata": {},
     "output_type": "execute_result"
    }
   ],
   "source": [
    "def embedded_rf_selector(X, y, num_feats):\n",
    "    # Your code goes here (Multiple lines)\n",
    "    rf = RandomForestClassifier(n_estimators=100)\n",
    "    embedded_rf_selector = SelectFromModel(rf,max_features=num_feats)\n",
    "    embedded_rf_selector = embedded_rf_selector.fit(X,y)\n",
    "    embedded_rf_support = embedded_rf_selector.get_support()\n",
    "    embedded_rf_feature = X.loc[:, embedded_rf_support].columns.tolist()\n",
    "    # Your code ends here\n",
    "    return embedded_rf_support, embedded_rf_feature\n",
    "\n",
    "embedded_rf_support, embedded_rf_feature = embedded_rf_selector(X, y, num_feats)\n",
    "print(str(len(embedded_rf_feature)), 'selected features')\n",
    "embedded_rf_feature"
   ]
  },
  {
   "cell_type": "code",
   "execution_count": 65,
   "id": "9781d5eb-c485-4d36-b0fb-0763bb75049c",
   "metadata": {},
   "outputs": [
    {
     "data": {
      "text/html": [
       "<div>\n",
       "<style scoped>\n",
       "    .dataframe tbody tr th:only-of-type {\n",
       "        vertical-align: middle;\n",
       "    }\n",
       "\n",
       "    .dataframe tbody tr th {\n",
       "        vertical-align: top;\n",
       "    }\n",
       "\n",
       "    .dataframe thead th {\n",
       "        text-align: right;\n",
       "    }\n",
       "</style>\n",
       "<table border=\"1\" class=\"dataframe\">\n",
       "  <thead>\n",
       "    <tr style=\"text-align: right;\">\n",
       "      <th></th>\n",
       "      <th>Feature</th>\n",
       "      <th>Pearson</th>\n",
       "      <th>Chi-2</th>\n",
       "      <th>RFE</th>\n",
       "      <th>Random Forest</th>\n",
       "      <th>Total</th>\n",
       "    </tr>\n",
       "  </thead>\n",
       "  <tbody>\n",
       "    <tr>\n",
       "      <th>1</th>\n",
       "      <td>mins_beerdrinking_year</td>\n",
       "      <td>True</td>\n",
       "      <td>True</td>\n",
       "      <td>True</td>\n",
       "      <td>True</td>\n",
       "      <td>4</td>\n",
       "    </tr>\n",
       "    <tr>\n",
       "      <th>2</th>\n",
       "      <td>coffee_per_year</td>\n",
       "      <td>True</td>\n",
       "      <td>True</td>\n",
       "      <td>True</td>\n",
       "      <td>True</td>\n",
       "      <td>4</td>\n",
       "    </tr>\n",
       "    <tr>\n",
       "      <th>3</th>\n",
       "      <td>workclass</td>\n",
       "      <td>True</td>\n",
       "      <td>True</td>\n",
       "      <td>True</td>\n",
       "      <td>False</td>\n",
       "      <td>3</td>\n",
       "    </tr>\n",
       "    <tr>\n",
       "      <th>4</th>\n",
       "      <td>salary</td>\n",
       "      <td>True</td>\n",
       "      <td>True</td>\n",
       "      <td>False</td>\n",
       "      <td>True</td>\n",
       "      <td>3</td>\n",
       "    </tr>\n",
       "    <tr>\n",
       "      <th>5</th>\n",
       "      <td>occupation</td>\n",
       "      <td>True</td>\n",
       "      <td>True</td>\n",
       "      <td>True</td>\n",
       "      <td>False</td>\n",
       "      <td>3</td>\n",
       "    </tr>\n",
       "    <tr>\n",
       "      <th>6</th>\n",
       "      <td>education_rank</td>\n",
       "      <td>True</td>\n",
       "      <td>False</td>\n",
       "      <td>True</td>\n",
       "      <td>True</td>\n",
       "      <td>3</td>\n",
       "    </tr>\n",
       "    <tr>\n",
       "      <th>7</th>\n",
       "      <td>works_hours</td>\n",
       "      <td>True</td>\n",
       "      <td>False</td>\n",
       "      <td>True</td>\n",
       "      <td>False</td>\n",
       "      <td>2</td>\n",
       "    </tr>\n",
       "    <tr>\n",
       "      <th>8</th>\n",
       "      <td>sex</td>\n",
       "      <td>False</td>\n",
       "      <td>True</td>\n",
       "      <td>True</td>\n",
       "      <td>False</td>\n",
       "      <td>2</td>\n",
       "    </tr>\n",
       "  </tbody>\n",
       "</table>\n",
       "</div>"
      ],
      "text/plain": [
       "                  Feature  Pearson  Chi-2    RFE  Random Forest  Total\n",
       "1  mins_beerdrinking_year     True   True   True           True      4\n",
       "2         coffee_per_year     True   True   True           True      4\n",
       "3               workclass     True   True   True          False      3\n",
       "4                  salary     True   True  False           True      3\n",
       "5              occupation     True   True   True          False      3\n",
       "6          education_rank     True  False   True           True      3\n",
       "7             works_hours     True  False   True          False      2\n",
       "8                     sex    False   True   True          False      2"
      ]
     },
     "execution_count": 65,
     "metadata": {},
     "output_type": "execute_result"
    }
   ],
   "source": [
    "pd.set_option('display.max_rows', None)\n",
    "# put all selection together\n",
    "feature_selection_df = pd.DataFrame({'Feature':feature_name, 'Pearson':cor_support, 'Chi-2':chi_support, 'RFE':rfe_support,\n",
    "                                    'Random Forest':embedded_rf_support})\n",
    "# count the selected times for each feature\n",
    "#feature_selection_df['Total'] = np.sum(feature_selection_df, axis=1)\n",
    "feature_selection_df['Total'] = feature_selection_df.iloc[:, 1:].sum(axis=1)  \n",
    "\n",
    "# display the top 100\n",
    "feature_selection_df = feature_selection_df.sort_values(['Total','Feature'] , ascending=False)\n",
    "feature_selection_df.index = range(1, len(feature_selection_df)+1)\n",
    "feature_selection_df.head(num_feats)"
   ]
  },
  {
   "cell_type": "code",
   "execution_count": 67,
   "id": "91be590c-6fcc-4ed9-b9a0-7cbecd13158b",
   "metadata": {},
   "outputs": [],
   "source": [
    "X = df.drop(columns=['great_customer_class', 'age', 'mins_exercising_year', 'marital-status', 'race', 'tea_per_year'])\n",
    "y = df['great_customer_class']"
   ]
  },
  {
   "cell_type": "code",
   "execution_count": 69,
   "id": "e3e177d3-e868-4018-995d-26402e08f487",
   "metadata": {},
   "outputs": [],
   "source": [
    "from sklearn.model_selection import train_test_split\n",
    "X_train, X_test, y_train, y_test = train_test_split(X, y, test_size=0.2, random_state=42)\n",
    "    \n",
    "# Standardizing the data\n",
    "scaler = StandardScaler()\n",
    "X_train = scaler.fit_transform(X_train)\n",
    "X_test = scaler.transform(X_test)"
   ]
  },
  {
   "cell_type": "code",
   "execution_count": 73,
   "id": "56747ea7-5ba5-4030-a6dd-0bde363f36ac",
   "metadata": {},
   "outputs": [
    {
     "name": "stdout",
     "output_type": "stream",
     "text": [
      "Random Forest Accuracy: 0.9243\n",
      "SVM Accuracy: 0.9239\n",
      "Logistic Regression Accuracy: 0.9228\n",
      "Naive Bayes Accuracy: 0.9107\n",
      "KNN Accuracy: 0.9151\n",
      "Bernoulli Naive Bayes Accuracy: 0.8816\n"
     ]
    }
   ],
   "source": [
    "from sklearn.ensemble import RandomForestClassifier, VotingClassifier, StackingClassifier\n",
    "from sklearn.svm import SVC\n",
    "from sklearn.linear_model import LogisticRegression\n",
    "from sklearn.naive_bayes import GaussianNB, BernoulliNB, MultinomialNB\n",
    "from sklearn.neighbors import KNeighborsClassifier\n",
    "from sklearn.preprocessing import StandardScaler\n",
    "from sklearn.metrics import accuracy_score\n",
    "models = {\n",
    "        'Random Forest': RandomForestClassifier(n_estimators=100, random_state=42),\n",
    "        'SVM': SVC(kernel='linear', probability=True, random_state=42),\n",
    "        'Logistic Regression': LogisticRegression(random_state=42),\n",
    "        'Naive Bayes': GaussianNB(),\n",
    "        'KNN': KNeighborsClassifier(n_neighbors=5),\n",
    "        'Bernoulli Naive Bayes': BernoulliNB(),\n",
    "    }\n",
    "    \n",
    "accuracies = {}\n",
    "for name, model in models.items():\n",
    "    model.fit(X_train, y_train)\n",
    "    y_pred = model.predict(X_test)\n",
    "    acc = accuracy_score(y_test, y_pred)\n",
    "    accuracies[name] = acc\n",
    "    print(f\"{name} Accuracy: {acc:.4f}\")"
   ]
  },
  {
   "cell_type": "code",
   "execution_count": 77,
   "id": "5612ea4f-0515-434d-8206-38c6265f4e52",
   "metadata": {},
   "outputs": [
    {
     "name": "stdout",
     "output_type": "stream",
     "text": [
      "Ensemble Voting Model Accuracy: 0.9250\n",
      "Ensemble stack Model Accuracy: 0.9254\n"
     ]
    }
   ],
   "source": [
    "ensemble = VotingClassifier(\n",
    "        estimators=[('rf', models['Random Forest']),\n",
    "                    ('svm', models['SVM']),\n",
    "                    ('lr', models['Logistic Regression']),\n",
    "                    ('knn', models['KNN']),\n",
    "                    ('bnb', models['Bernoulli Naive Bayes'])], voting='soft')\n",
    "# Fit the ensemble model\n",
    "ensemble.fit(X_train, y_train)\n",
    "y_pred_ensemble = ensemble.predict(X_test)\n",
    "ensemble_acc = accuracy_score(y_test, y_pred_ensemble)\n",
    "print(f\"Ensemble Voting Model Accuracy: {ensemble_acc:.4f}\")\n",
    "\n",
    "estimator_list = [\n",
    "        ('rf', models['Random Forest']),\n",
    "        ('svm', models['SVM']),\n",
    "        ('lr', models['Logistic Regression']),\n",
    "        ('knn', models['KNN']),\n",
    "        ('bnb', models['Bernoulli Naive Bayes'])\n",
    "    ]\n",
    "    \n",
    "# Define the stacking model with Logistic Regression as the final estimator\n",
    "stack_model = StackingClassifier(estimators=estimator_list, final_estimator=LogisticRegression())    \n",
    "# Fit the stacking model\n",
    "stack_model.fit(X_train, y_train)\n",
    "# Make predictions and evaluate accuracy\n",
    "y_pred = stack_model.predict(X_test)\n",
    "acc = accuracy_score(y_test, y_pred)\n",
    "print(f\"Ensemble stack Model Accuracy: {acc:.4f}\")"
   ]
  },
  {
   "cell_type": "code",
   "execution_count": 9,
   "id": "3c1502f1-97da-4428-8880-484848173aa0",
   "metadata": {},
   "outputs": [
    {
     "name": "stdout",
     "output_type": "stream",
     "text": [
      "Random Forest Accuracy: 0.9169\n",
      "SVM Accuracy: 0.9235\n",
      "Logistic Regression Accuracy: 0.9202\n",
      "Naive Bayes Accuracy: 0.9026\n",
      "KNN Accuracy: 0.9136\n",
      "Bernoulli Naive Bayes Accuracy: 0.9011\n",
      "Ensemble Stacking Model Accuracy: 0.9254\n",
      "Ensemble Voting Model Accuracy: 0.9246\n"
     ]
    }
   ],
   "source": [
    "import pandas as pd\n",
    "import numpy as np\n",
    "from sklearn.model_selection import train_test_split\n",
    "from sklearn.ensemble import RandomForestClassifier, VotingClassifier, StackingClassifier\n",
    "from sklearn.svm import SVC\n",
    "from sklearn.linear_model import LogisticRegression\n",
    "from sklearn.naive_bayes import GaussianNB, BernoulliNB\n",
    "from sklearn.neighbors import KNeighborsClassifier\n",
    "from sklearn.preprocessing import StandardScaler, LabelEncoder\n",
    "from sklearn.metrics import accuracy_score\n",
    "\n",
    "# Define dataset path\n",
    "dataset_path = \"great_customers.csv\"\n",
    "\n",
    "# Data Loader\n",
    "def load_data(file_path):\n",
    "    df = pd.read_csv(file_path)\n",
    "    return df\n",
    "\n",
    "# Data Cleaning and Encoding\n",
    "def clean_and_encode_data(df):\n",
    "    num_cols = ['mins_beerdrinking_year', 'mins_exercising_year', 'tea_per_year', 'coffee_per_year', 'salary', 'age']\n",
    "    cat_cols = ['workclass', 'occupation']\n",
    "\n",
    "    # Fill missing values for numeric columns with mean\n",
    "    for col in num_cols:\n",
    "        df[col] = df[col].fillna(df[col].mean())\n",
    "\n",
    "    # Fill missing values for categorical columns with mode\n",
    "    for col in cat_cols:\n",
    "        df[col] = df[col].fillna(df[col].mode()[0])\n",
    "\n",
    "    # Apply Label Encoding to categorical features\n",
    "    label_encoders = {}\n",
    "    for col in cat_cols:\n",
    "        le = LabelEncoder()\n",
    "        df[col] = le.fit_transform(df[col])\n",
    "        label_encoders[col] = le  # Store encoders for inverse transformation if needed\n",
    "\n",
    "    return df, label_encoders\n",
    "\n",
    "# Feature Selection\n",
    "def select_features(df):\n",
    "    df = df.drop(columns=['user_id'])  # Drop irrelevant column\n",
    "    X = df.drop(columns=['great_customer_class', 'age', 'education_rank', 'marital-status', 'race', 'sex', 'tea_per_year'])\n",
    "    y = df['great_customer_class']\n",
    "\n",
    "    return X, y\n",
    "\n",
    "# Model Training and Evaluation\n",
    "def train_and_evaluate(X, y):\n",
    "    X_train, X_test, y_train, y_test = train_test_split(X, y, test_size=0.2, random_state=42)\n",
    "    \n",
    "    # Standardizing the data\n",
    "    scaler = StandardScaler()\n",
    "    X_train = scaler.fit_transform(X_train)\n",
    "    X_test = scaler.transform(X_test)\n",
    "\n",
    "    models = {\n",
    "        'Random Forest': RandomForestClassifier(n_estimators=100, random_state=42),\n",
    "        'SVM': SVC(kernel='linear', probability=True, random_state=42),\n",
    "        'Logistic Regression': LogisticRegression(random_state=42),\n",
    "        'Naive Bayes': GaussianNB(),\n",
    "        'KNN': KNeighborsClassifier(n_neighbors=5),\n",
    "        'Bernoulli Naive Bayes': BernoulliNB(),\n",
    "    }\n",
    "    \n",
    "    accuracies = {}\n",
    "    for name, model in models.items():\n",
    "        model.fit(X_train, y_train)\n",
    "        y_pred = model.predict(X_test)\n",
    "        acc = accuracy_score(y_test, y_pred)\n",
    "        accuracies[name] = acc\n",
    "        print(f\"{name} Accuracy: {acc:.4f}\")\n",
    "    \n",
    "    return accuracies, X_train, y_train, X_test, y_test, models\n",
    "\n",
    "# Ensemble Learning\n",
    "def ensemble_learning(models, X_train, y_train, X_test, y_test):\n",
    "    # Define the ensemble VotingClassifier\n",
    "    ensemble = VotingClassifier(\n",
    "        estimators=[('rf', models['Random Forest']),\n",
    "                    ('svm', models['SVM']),\n",
    "                    ('lr', models['Logistic Regression']),\n",
    "                    ('knn', models['KNN']),\n",
    "                    ('bnb', models['Bernoulli Naive Bayes'])], voting='soft')\n",
    "\n",
    "    # Define the estimator list for StackingClassifier\n",
    "    estimator_list = [\n",
    "        ('rf', models['Random Forest']),\n",
    "        ('svm', models['SVM']),\n",
    "        ('lr', models['Logistic Regression']),\n",
    "        ('knn', models['KNN']),\n",
    "        ('bnb', models['Bernoulli Naive Bayes'])\n",
    "    ]\n",
    "    \n",
    "    # Define the stacking model with Logistic Regression as the final estimator\n",
    "    stack_model = StackingClassifier(estimators=estimator_list, final_estimator=LogisticRegression())\n",
    "    \n",
    "    # Fit the stacking model\n",
    "    stack_model.fit(X_train, y_train)\n",
    "    \n",
    "    # Make predictions and evaluate accuracy\n",
    "    y_pred = stack_model.predict(X_test)\n",
    "    acc = accuracy_score(y_test, y_pred)\n",
    "    print(f\"Ensemble Stacking Model Accuracy: {acc:.4f}\")\n",
    "    \n",
    "    # Fit the ensemble model\n",
    "    ensemble.fit(X_train, y_train)\n",
    "    y_pred_ensemble = ensemble.predict(X_test)\n",
    "    ensemble_acc = accuracy_score(y_test, y_pred_ensemble)\n",
    "    print(f\"Ensemble Voting Model Accuracy: {ensemble_acc:.4f}\")\n",
    "    \n",
    "    return acc, ensemble_acc\n",
    "\n",
    "# Main Execution\n",
    "if __name__ == \"__main__\":\n",
    "    df = load_data(dataset_path)\n",
    "    df, label_encoders = clean_and_encode_data(df)  # Now using Label Encoding\n",
    "    X, y = select_features(df)\n",
    "    accuracies, X_train, y_train, X_test, y_test, models = train_and_evaluate(X, y)\n",
    "    stacking_acc, voting_acc = ensemble_learning(models, X_train, y_train, X_test, y_test)\n"
   ]
  },
  {
   "cell_type": "code",
   "execution_count": null,
   "id": "9b0e3e40-35a4-4ae7-b300-3faf9b66ab9c",
   "metadata": {},
   "outputs": [],
   "source": []
  }
 ],
 "metadata": {
  "kernelspec": {
   "display_name": "Python [conda env:base]",
   "language": "python",
   "name": "conda-base-py"
  },
  "language_info": {
   "codemirror_mode": {
    "name": "ipython",
    "version": 3
   },
   "file_extension": ".py",
   "mimetype": "text/x-python",
   "name": "python",
   "nbconvert_exporter": "python",
   "pygments_lexer": "ipython3",
   "version": "3.12.7"
  }
 },
 "nbformat": 4,
 "nbformat_minor": 5
}
