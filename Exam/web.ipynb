{
 "cells": [
  {
   "cell_type": "code",
   "execution_count": 8,
   "id": "2a33d84b-a92d-4098-99a9-854677935a8b",
   "metadata": {},
   "outputs": [
    {
     "name": "stdout",
     "output_type": "stream",
     "text": [
      "Title: Pai Northern Thai Kitchen\n",
      "Total Reviews: 3.8k reviews\n",
      "Reviewers: ['Nhu N.', 'Celton M.', 'Michael C.', 'Lisa D.', 'Angela S.', 'Dom G.', 'Laurel B.', 'Christy Y.', 'Ashley C.', 'Maurice V.']\n",
      "Ratings: ['5 star', '5 star', '5 star', '4 star', '5 star', '5 star', '5 star', '5 star', '5 star', '5 star']\n",
      "Reviews: [\"It's a really busy restaurant but the staff are kind and patient. I came in with a big group and we ended up being late but the staff were very kind to us. I'm genuinely so grateful that they were accommodating and patient with us. The restaurant is nice, and there's a lot of seating. Service is kind and attentive. There was auto gratuity as we were a big group, and they only accept card for payment. I was able to leave an extra cash tip though- I felt so bad that we were late.I ordered the khao soi with curry- you can't adjust spice level for it. It was really good, but I think I prefer the Uptown location more. The beef was a bit tougher compared to the other one. The flavour was great, nice and sweet. It's honestly not too spicy. My boyfriend got the pad see ew, which was also really good. I feel like their food never disappoints. Everyone else at my table enjoyed their food.My meal came out to $28 with auto-gratuity. I left feeling full and happy. Definitely recommend.\", 'Had a lovely Sunday night dinner at Pai! I was shocked how big it is! My friends and I walked in without a reservation, I discovered that the restaurant is massive - so there were several tables open. The vibe is quite intimate and cozy.Servers were very nice. There were lots of staff on the floor.Food was delicious! I had the red curry with beef. Rice was perfect - not too sweet, but still nice.Would highly recommend!', 'Pai Northern Thai Kitchen offers such a vibrant experience. I loved colorful lighting in the restaurant and the overall vibe at the bar.We didn\\'t have any reservations and the wait was 30 minutes so hung out at the bar which was a great experience. There\\'s a large variety of drinks that were Toronto themed which caught my attention. They had drinks like \"Cherry Trent Jr\" and \"Scotchie Barnes\" which is playful. I chose the Thai Mojito.Now when it came to dinner, the food was my highlight. I ordered the Green Curry Chicken and I must say that this was probably my favorite Green Curry Chicken ever. One thing that made this different than all others is that it\\'s served in a coconut. The dish itself was tasty but one thing that I particularly loved was scraping the coconut and having a dessert-like experience afterward.Overall this place was great. Great location, wonderful ambiance, and enthusiastic and knowledgeable staff. I appreciated that they were able to help my colleague who had a gluten and dairy allergy.', \"We arrived on a weekend for dinner around 4:30pm and the place was packed. There was a long line at the door. Luckily, we got a table after 10min wait. Their convenient location near many theatres and venues makes it a popular option in the area.The restaurant is spacious with colourful decoration. The music isn't too loud and the noise level is suitable for conversations.Our server told us their signature dishes are Pad Kra Pao and Khao Soi.Pad Kra Pao: very good and well-seasoned. We ordered it with crispy pork and it was so delicious! Highly recommend ordering crispy pork to go with this dish.Khao Soi: presentation was great, so tasty and comforting.Thai milk tea: good, just the right amount of sweetnessService was very good despite how busy the restaurant was.I'd definitely come back to try other dishes.\", \"Dude. I think this is the best Thai restaurant Ive eaten outside of Thailand. Not to be dramatic. My family didn't reserve cuz we are clowns, so we waited 1.5 hours but it was well worth the wait.The skewers were incredible - juicy and well grilled. The Moo Ping took me back to Thailand.I got the fish green curry and it was good. The fish was well cooked and fresh. Very well balanced flavors, along with a fun presentation if you care for that.However, the Khao Soi (which is my favorite Thai dish ever) was incredible. Deep and rich with flavor (spicy, yet tangy, and sweet), and great portion size.The dessert was also incredible - we got the coconut ice cream, and it was so fresh. The toppings also added such a variety of texture.\", 'Chicken wings were to die for.. so good, especially with the chilli sauce. Made my nose run because of the heat. Loved it.Khao soi was tasty too. So happy I ordered it.Loved this cute restaurant with friendly and attentive staff.So glad I took the time out to have lunch here during a work day!', \"Wowowowow! What an experience! From start to finish, Pai is incredible and I'm so sad I won't be able to revisit it until my next trip to Toronto.I was warned by multiple people that I'd have to wait in a long line if I wanted to go to Pai without a reservation. I decided to chance it anyway and dropped in as a single around 4pm on a Saturday and I was excited to find out it would only be a 10-15 minute wait. It ended up being just under 10 minutes.I was seated at the bar at the far end of the deceptively large restaurant. The basement space feels cozy and colourful with lots of decor to look at and a tropical-vibe.I started things off with a Thai mojito which was a brilliant purple colour. It was a refreshing twist on a classic. For dinner I had a vegetarian version of the Khao Soi which is served with tofu, veggies, and noodles (can be made vegan on request by changing out the egg noodles). This was one of the tastiest dishes I've ever had. The coconut-based broth was bright, flavourful, and perfectly spiced. It was very filling and I was sad that I couldn't take my leftovers with me.\", \"Pai Northern Thai Kitchen has got to be one of my favorite spots in Toronto! I was visiting for the weekend and decided to check it out on a Friday, even though we originally planned to go Saturday. It was a quick walk from our hotel, so we figured why not? Even though the place was packed, we got seated right away at a high-top table. Regular table wait time was 30-45 minutes. It's shared with other groups, but there's still plenty of room to feel comfortable and chat with your friends.We ordered a ton of food: Thai chicken wings, the Northern Platter, pad see ew with shrimp, green curry, mango sticky rice, a Thai iced tea, and pineapple juice. There were three of us, we knew we overordered, but everything was so good that we somehow managed to finish it all.The Thai chicken wings were fried with a nice texture, though they weren't super crispy. The sweet sauce drizzled over them was perfect, and I loved that balance of flavors. The Northern Platter was massive and looked almost intimidating--it's definitely shareable and could easily be a meal on its own. It came with sticky rice, pork skewers, northern laab salad, Thai sausages, and these squash fritters. The pork skewers were a highlight; they were so tasty I wanted more. there was a hint of sweetness coated on the pork skewers. The laab salad was really spicy, but even I couldn't stop myself from taking a few bites because it was that good. The Thai sausages had just the right amount of saltiness, and the squash fritters were a fun surprise--I thought they were sweet potato fries at first.The pad see ew with shrimp was delicious and not too oily, which is a huge plus. The only bummer was that there were only three shrimp. I didn't even get to try one. Next time, I'd probably go for the chicken or beef instead.The green curry was amazing. We got it with beef, and it had just the right amount of spice. The beef pieces were a little thick, but overall, the flavors were on point. It was served in a whole coconut, which added this lovely coconut sweetness to the spicy curry. And once we finished, we even scooped out the coconut flesh!Even though we were stuffed, we couldn't skip dessert. We ordered two mango sticky rice, because it's a must-have at any Thai restaurant. The mango was perfectly ripe and sweet, and the sticky rice, still warm, was drizzled with coconut sauce that made it so comforting. Even if you're full, you have to try it--it's worth it!Overall, if you're in Toronto, Pai Northern Thai Kitchen is a must-visit. The food is incredible, the atmosphere is always buzzing, and it's totally worth the trip, whether you're a local or just in town for the weekend.\", 'Good thai food overall! Really enjoyed the aesthetic inside and love that they have a waiting area + bar for you to wait at! Came at 6, waited for 15min for table for 4, and had a yummy meal! I think they were p rushed bc they took a while for food + forgot some things but not really a big bother. Kind people, great vibes, enjoyed a classic toronto spot overall :DFelt on the same level as Soothr in NYC. Wish there were more noodles in Khao Soi, but the flavors were pretty great.', 'UM what a spot. This was the first food spot I visited when going to Toronto for the first time and I was absolutely not disappointed.I had heard that it can be difficult to walk in and be seated, but we were able to right away. We ordered a variety of appetizer/table sharers before our main meal - all of the apps were great - from vegetable fried rice to wings, etc.My main meal was the pad gra prow which was recommended by the kind waitress. It was delicious and had just the right amount of spice (base level). The crunch that was added from the crispy pork was soo tasty.Definitely understand why this restaurant is acclaimed. The atmosphere was beautiful, calm and relaxing and the food was delicious.This is the type of restaurant that deserves a Michelin Star.']\n",
      "Data successfully saved to yelp_scraped_data.csv\n"
     ]
    }
   ],
   "source": [
    "import requests\n",
    "from bs4 import BeautifulSoup\n",
    "import pandas as pd\n",
    "import time\n",
    "\n",
    "def scrape_website(url):\n",
    "    try:\n",
    "        response = requests.get(url, timeout=10)\n",
    "        response.raise_for_status()\n",
    "        \n",
    "        soup = BeautifulSoup(response.text, \"html.parser\")\n",
    "\n",
    "        reviewers_name = []\n",
    "        ratings = []\n",
    "        reviews = []\n",
    "        titles = []\n",
    "        total_reviews = []\n",
    "\n",
    "        # Extract business title and total reviews\n",
    "        title = soup.find('h1', class_='y-css-olzveb').text.strip()\n",
    "        number_review = soup.find('a', class_='y-css-1x1e1r2').text.strip().replace('(', '').replace(')', '')\n",
    "        total_rating = soup.find('a', class_='y-css-1x1e1r2')\n",
    "\n",
    "        #users rating\n",
    "        li_elements = soup.find_all('li', class_='y-css-1sqelp2')\n",
    "       \n",
    "\n",
    "        for li in li_elements:\n",
    "            reviewers = li.find('a', class_='y-css-1x1e1r2')\n",
    "            rating = li.find('div', class_='y-css-dnttlc')\n",
    "            review = li.find('span', class_='raw__09f24__T4Ezm')\n",
    "\n",
    "            if reviewers and review and rating:\n",
    "                titles.append(title)\n",
    "                total_reviews.append(number_review)\n",
    "                reviewers_name.append(reviewers.get_text(strip=True))  # Extract text safely\n",
    "                ratings.append(rating.get('aria-label', '').replace(' rating', ''))  # Handle missing rating\n",
    "                reviews.append(review.get_text(strip=True))  # Extract text safely\n",
    "\n",
    "        # Print scraped data\n",
    "        print(\"Title:\", title)\n",
    "        print(\"Total Reviews:\", number_review)\n",
    "        print(\"Reviewers:\", reviewers_name)\n",
    "        print(\"Ratings:\", ratings)\n",
    "        print(\"Reviews:\", reviews)\n",
    "\n",
    "        # Store Data in Pandas DataFrame\n",
    "        data = pd.DataFrame({\n",
    "            \"Title\": titles,\n",
    "            \"Total Reviews\": total_reviews,\n",
    "            \"Reviewer\": reviewers_name,\n",
    "            \"Rating\": ratings,\n",
    "            \"Review Text\": reviews\n",
    "        })\n",
    "\n",
    "        # Save to CSV\n",
    "        data.to_csv(\"scraped_data.csv\", index=False)\n",
    "        print(\"Data successfully saved to scraped_data.csv\")\n",
    "\n",
    "        return data\n",
    "\n",
    "    except requests.exceptions.RequestException as e:\n",
    "        print(f\"Error fetching {url}: {e}\")\n",
    "        return None\n",
    "\n",
    "# Target Yelp URL\n",
    "target_url = \"https://www.yelp.ca/biz/pai-northern-thai-kitchen-toronto-5?osq=Restaurants\"\n",
    "\n",
    "# Run the scraper\n",
    "scraped_data = scrape_website(target_url)"
   ]
  },
  {
   "cell_type": "code",
   "execution_count": null,
   "id": "cfccef59-ec6e-4e81-8998-97d5afbc5afc",
   "metadata": {},
   "outputs": [],
   "source": []
  }
 ],
 "metadata": {
  "kernelspec": {
   "display_name": "Python [conda env:base]",
   "language": "python",
   "name": "conda-base-py"
  },
  "language_info": {
   "codemirror_mode": {
    "name": "ipython",
    "version": 3
   },
   "file_extension": ".py",
   "mimetype": "text/x-python",
   "name": "python",
   "nbconvert_exporter": "python",
   "pygments_lexer": "ipython3",
   "version": "3.12.7"
  }
 },
 "nbformat": 4,
 "nbformat_minor": 5
}
